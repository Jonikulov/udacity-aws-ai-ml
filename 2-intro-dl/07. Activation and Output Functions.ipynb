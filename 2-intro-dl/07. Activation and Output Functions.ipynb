{
  "cells": [
    {
      "cell_type": "markdown",
      "metadata": {
        "id": "sf8ffnhfhD6X"
      },
      "source": [
        "# Activation and Output Functions\n",
        "In this exercise, you'll explore how activation functions and output functions impact the ability of neural networks to learn.\n",
        "\n",
        "Most of the code will be provided for you, and you'll have to fill in the blanks!\n",
        "Consider trying a few different combinations of activation functions to get a better idea of how the activation function impacts training."
      ],
      "id": "sf8ffnhfhD6X"
    },
    {
      "cell_type": "code",
      "execution_count": 1,
      "metadata": {
        "id": "bYCgbjK9hD6c"
      },
      "outputs": [],
      "source": [
        "# DO NOT EDIT THIS CELL\n",
        "import torch\n",
        "from torch import nn\n",
        "from torch import optim\n",
        "import torch.nn.functional as F\n",
        "from torch.utils.data import DataLoader\n",
        "from torchvision import transforms\n",
        "from torchvision import datasets\n",
        "import matplotlib.pyplot as plt\n",
        "from sklearn.datasets import fetch_california_housing\n",
        "from sklearn.model_selection import train_test_split"
      ],
      "id": "bYCgbjK9hD6c"
    },
    {
      "cell_type": "code",
      "execution_count": 2,
      "metadata": {
        "colab": {
          "base_uri": "https://localhost:8080/"
        },
        "id": "UtkeKYQmhD6e",
        "outputId": "1fc4d60b-d7f1-4607-a7e1-fb7f6ec7e842"
      },
      "outputs": [
        {
          "output_type": "execute_result",
          "data": {
            "text/plain": [
              "device(type='cuda')"
            ]
          },
          "metadata": {},
          "execution_count": 2
        }
      ],
      "source": [
        "device = torch.device('cuda' if torch.cuda.is_available() else 'cpu')\n",
        "device"
      ],
      "id": "UtkeKYQmhD6e"
    },
    {
      "cell_type": "markdown",
      "metadata": {
        "id": "7c-bqrdrhD6i"
      },
      "source": [
        "## Loading Data\n",
        "We use the [CIFAR-10](https://pytorch.org/vision/stable/generated/torchvision.datasets.CIFAR10.html#torchvision.datasets.CIFAR10) dataset from the `torchvision` module and wrap the training and test datasets in a DataLoader.\n",
        "\n",
        "We also create a `train_network` function that takes a PyTorch neural network, a train DataLoader, and a test DataLoader.\n",
        "\n",
        "This code has been provided for you."
      ],
      "id": "7c-bqrdrhD6i"
    },
    {
      "cell_type": "code",
      "execution_count": 4,
      "metadata": {
        "colab": {
          "base_uri": "https://localhost:8080/"
        },
        "id": "Rdyi6xGZhD6j",
        "outputId": "6358d3f9-c5d5-4c0e-ea99-18acb03a79d3"
      },
      "outputs": [
        {
          "output_type": "stream",
          "name": "stdout",
          "text": [
            "Downloading https://www.cs.toronto.edu/~kriz/cifar-10-python.tar.gz to data/cifar-10-python.tar.gz\n"
          ]
        },
        {
          "output_type": "stream",
          "name": "stderr",
          "text": [
            "100%|██████████| 170498071/170498071 [00:03<00:00, 45028564.46it/s]\n"
          ]
        },
        {
          "output_type": "stream",
          "name": "stdout",
          "text": [
            "Extracting data/cifar-10-python.tar.gz to data\n",
            "Files already downloaded and verified\n"
          ]
        }
      ],
      "source": [
        "# Establish our transform\n",
        "transform = transforms.Compose([transforms.ToTensor(), transforms.Normalize((0.5, 0.5, 0.5), (0.5, 0.5, 0.5))])\n",
        "\n",
        "# Load train and test datasets\n",
        "training_data = datasets.CIFAR10(root=\"data\", train=True, download=True, transform=transform)\n",
        "test_data = datasets.CIFAR10(root=\"data\", train=False, download=True, transform=transform)\n",
        "\n",
        "# Create the training and test dataloaders with a batch size of 32\n",
        "train_loader = DataLoader(training_data, batch_size=32, shuffle=True)\n",
        "test_loader = DataLoader(test_data, batch_size=32)"
      ],
      "id": "Rdyi6xGZhD6j"
    },
    {
      "cell_type": "code",
      "execution_count": 5,
      "metadata": {
        "id": "xum_BxkIhD6l"
      },
      "outputs": [],
      "source": [
        "# This code is provided for you.\n",
        "# Feel free to look it over but if you modify it, it may break!\n",
        "def train_network_classification(net, train_loader, test_loader):\n",
        "    num_epochs = 10\n",
        "\n",
        "    # We'll use Negative Log Likelihood Loss as our objective function here. Leave it fixed for now.\n",
        "    criterion = nn.NLLLoss()\n",
        "\n",
        "    # Don't worry about the choice of optimizer here. Leave it fixed for now.\n",
        "    optimizer = optim.SGD(mlp.parameters(), lr=0.005, momentum=0.9)\n",
        "\n",
        "    # Establish a list for our history\n",
        "    train_loss_history = list()\n",
        "    val_loss_history = list()\n",
        "\n",
        "    for epoch in range(num_epochs):\n",
        "        net.train()\n",
        "        train_loss = 0.0\n",
        "        train_correct = 0\n",
        "        for i, data in enumerate(train_loader):\n",
        "            # data is a list of [inputs, labels]\n",
        "            inputs, labels = data\n",
        "\n",
        "            # Pass to GPU if available.\n",
        "            if torch.cuda.is_available():\n",
        "                inputs, labels = inputs.cuda(), labels.cuda()\n",
        "\n",
        "            optimizer.zero_grad()\n",
        "\n",
        "            outputs = net(inputs)\n",
        "            loss = criterion(outputs, labels)\n",
        "            loss.backward()\n",
        "            optimizer.step()\n",
        "\n",
        "            _, preds = torch.max(outputs.data, 1)\n",
        "            train_correct += (preds == labels).sum().item()\n",
        "            train_loss += loss.item()\n",
        "        print(f'Epoch {epoch + 1} training accuracy: {train_correct/len(train_loader):.2f}% training loss: {train_loss/len(train_loader):.5f}')\n",
        "        train_loss_history.append(train_loss)\n",
        "\n",
        "\n",
        "        val_loss = 0.0\n",
        "        val_correct = 0\n",
        "        net.eval()\n",
        "        for inputs, labels in test_loader:\n",
        "            inputs, labels = inputs.to(device), labels.to(device)\n",
        "\n",
        "            outputs = net(inputs)\n",
        "            loss = criterion(outputs, labels)\n",
        "\n",
        "            _, preds = torch.max(outputs.data, 1)\n",
        "            val_correct += (preds == labels).sum().item()\n",
        "            val_loss += loss.item()\n",
        "        print(f'Epoch {epoch + 1} validation accuracy: {val_correct/len(test_loader):.2f}% validation loss: {val_loss/len(test_loader):.5f}')\n",
        "        val_loss_history.append(val_loss)\n",
        "\n",
        "    plt.plot(train_loss_history, label=\"Training Loss\")\n",
        "    plt.plot(val_loss_history, label=\"Validation Loss\")\n",
        "    plt.legend()\n",
        "    plt.show()\n",
        "\n",
        "def train_network_regression(net, train_loader, test_loader):\n",
        "    num_epochs = 10\n",
        "\n",
        "    criterion = nn.L1Loss(reduction='sum')\n",
        "\n",
        "    # Don't worry about the choice of optimizer here. Leave it fixed for now.\n",
        "    optimizer = optim.SGD(mlp.parameters(), lr=0.05)\n",
        "\n",
        "    # Establish a list for our history\n",
        "    train_loss_history = list()\n",
        "    val_loss_history = list()\n",
        "\n",
        "    for epoch in range(num_epochs):\n",
        "        net.train()\n",
        "        train_loss = 0.0\n",
        "        for i, data in enumerate(train_loader):\n",
        "            # data is a list of [inputs, labels]\n",
        "            inputs, labels = data\n",
        "\n",
        "            # Pass to GPU if available.\n",
        "            inputs, labels = inputs.to(device), labels.to(device)\n",
        "\n",
        "            optimizer.zero_grad()\n",
        "\n",
        "            outputs = net(inputs)\n",
        "            loss = criterion(outputs, labels)\n",
        "            loss.backward()\n",
        "            optimizer.step()\n",
        "\n",
        "            train_loss += loss.item()\n",
        "        print(f'Epoch {epoch + 1} training loss: {train_loss/len(train_loader):.5f}')\n",
        "        train_loss_history.append(train_loss)\n",
        "\n",
        "\n",
        "        val_loss = 0.0\n",
        "        net.eval()\n",
        "        for inputs, labels in test_loader:\n",
        "            if torch.cuda.is_available():\n",
        "                inputs, labels = inputs.cuda(), labels.cuda()\n",
        "\n",
        "            outputs = net(inputs)\n",
        "            loss = criterion(outputs, labels)\n",
        "\n",
        "            val_loss += loss.item()\n",
        "        print(f'Epoch {epoch + 1} validation loss: {val_loss/len(test_loader):.5f}')\n",
        "        val_loss_history.append(val_loss)\n",
        "\n",
        "    plt.plot(train_loss_history, label=\"Training Loss\")\n",
        "    plt.plot(val_loss_history, label=\"Validation Loss\")\n",
        "    plt.legend()\n",
        "    plt.show()"
      ],
      "id": "xum_BxkIhD6l"
    },
    {
      "cell_type": "markdown",
      "metadata": {
        "id": "vxWRB3iHhD6m"
      },
      "source": [
        "## Defining a Neural Network\n",
        "The first model we establish is a fully-connected neural network -- a multi-layer perceptron.\n",
        "You will specify the activation and output function for the network based on the task -- a 10-class image classification task.\n",
        "\n",
        "If you need to, consult the [PyTorch documentation](https://pytorch.org/docs/stable/nn.functional.html#non-linear-activation-functions) for the activation and output function options available to you.\n",
        "\n",
        "**NOTE:** When choosing your activation and output functions, omit the parentheses in the assignment to the class property."
      ],
      "id": "vxWRB3iHhD6m"
    },
    {
      "cell_type": "code",
      "execution_count": 6,
      "metadata": {
        "colab": {
          "base_uri": "https://localhost:8080/"
        },
        "id": "TeFMz_3WhD6m",
        "outputId": "238da841-e781-4b60-ffa1-bd91dfd96c7e"
      },
      "outputs": [
        {
          "output_type": "execute_result",
          "data": {
            "text/plain": [
              "CIFAR_MLP(\n",
              "  (fc1): Linear(in_features=3072, out_features=120, bias=True)\n",
              "  (fc2): Linear(in_features=120, out_features=84, bias=True)\n",
              "  (fc3): Linear(in_features=84, out_features=10, bias=True)\n",
              ")"
            ]
          },
          "metadata": {},
          "execution_count": 6
        }
      ],
      "source": [
        "class CIFAR_MLP(nn.Module):\n",
        "    def __init__(self):\n",
        "        super().__init__()\n",
        "        self.activation = F.relu\n",
        "        self.output = F.log_softmax\n",
        "        self.fc1 = nn.Linear(32 * 32 * 3, 120)\n",
        "        self.fc2 = nn.Linear(120, 84)\n",
        "        self.fc3 = nn.Linear(84, 10)\n",
        "\n",
        "    def forward(self, x):\n",
        "        x = torch.flatten(x, 1) # flatten all dimensions except batch\n",
        "        x = self.activation(self.fc1(x))\n",
        "        x = self.activation(self.fc2(x))\n",
        "        x = self.output(self.fc3(x), dim=1)\n",
        "        return x\n",
        "\n",
        "# Do not change the name of your model or later cells may fail!\n",
        "mlp = CIFAR_MLP()\n",
        "mlp.to(device)"
      ],
      "id": "TeFMz_3WhD6m"
    },
    {
      "cell_type": "code",
      "source": [
        "# Now let's train our network!\n",
        "train_network_classification(mlp, train_loader, test_loader)"
      ],
      "metadata": {
        "colab": {
          "base_uri": "https://localhost:8080/",
          "height": 777
        },
        "id": "GTKnqQW-huCB",
        "outputId": "b268f8b1-c379-45ea-b4dc-5de11b1d602e"
      },
      "id": "GTKnqQW-huCB",
      "execution_count": 7,
      "outputs": [
        {
          "output_type": "stream",
          "name": "stdout",
          "text": [
            "Epoch 1 training accuracy: 12.57% training loss: 1.70688\n",
            "Epoch 1 validation accuracy: 14.44% validation loss: 1.54211\n",
            "Epoch 2 training accuracy: 15.22% training loss: 1.47592\n",
            "Epoch 2 validation accuracy: 15.54% validation loss: 1.44834\n",
            "Epoch 3 training accuracy: 16.46% training loss: 1.37660\n",
            "Epoch 3 validation accuracy: 15.86% validation loss: 1.40388\n",
            "Epoch 4 training accuracy: 17.25% training loss: 1.30409\n",
            "Epoch 4 validation accuracy: 16.24% validation loss: 1.37760\n",
            "Epoch 5 training accuracy: 17.85% training loss: 1.24792\n",
            "Epoch 5 validation accuracy: 16.78% validation loss: 1.36633\n",
            "Epoch 6 training accuracy: 18.40% training loss: 1.19821\n",
            "Epoch 6 validation accuracy: 16.85% validation loss: 1.36052\n",
            "Epoch 7 training accuracy: 18.92% training loss: 1.15598\n",
            "Epoch 7 validation accuracy: 16.81% validation loss: 1.35711\n",
            "Epoch 8 training accuracy: 19.27% training loss: 1.11797\n",
            "Epoch 8 validation accuracy: 16.78% validation loss: 1.36103\n",
            "Epoch 9 training accuracy: 19.75% training loss: 1.08001\n",
            "Epoch 9 validation accuracy: 16.99% validation loss: 1.36621\n",
            "Epoch 10 training accuracy: 20.10% training loss: 1.04787\n",
            "Epoch 10 validation accuracy: 16.88% validation loss: 1.38259\n"
          ]
        },
        {
          "output_type": "display_data",
          "data": {
            "text/plain": [
              "<Figure size 640x480 with 1 Axes>"
            ],
            "image/png": "[encoded data removed]"
          },
          "metadata": {}
        }
      ]
    },
    {
      "cell_type": "markdown",
      "metadata": {
        "id": "otSE4GljhD6n"
      },
      "source": [
        "## Regression Tasks\n",
        "In a regession task, we'll need to think about something else -- our same model may not work!\n",
        "For this task, we'll use the [California Housing Dataset](https://scikit-learn.org/stable/modules/generated/sklearn.datasets.fetch_california_housing.html).\n",
        "\n",
        "Again, if you get stuck on your choices of activation function, check out [the documentation](https://pytorch.org/docs/stable/nn.functional.html#non-linear-activation-functions).\n",
        "This network looks a bit different -- why do we not have an output function for this task?"
      ],
      "id": "otSE4GljhD6n"
    },
    {
      "cell_type": "code",
      "execution_count": 10,
      "metadata": {
        "id": "s2DxY07nhD6o"
      },
      "outputs": [],
      "source": [
        "# Load our data and split it into train and test sets\n",
        "data, target = fetch_california_housing(return_X_y=True)\n",
        "train_x, test_x, train_y, test_y = train_test_split(data, target, test_size=0.3)\n",
        "\n",
        "# Since we are using PyTorch, we need tensors!\n",
        "train_x = torch.tensor(train_x, dtype=torch.float32)\n",
        "test_x = torch.tensor(test_x, dtype=torch.float32)\n",
        "train_y = torch.tensor(train_y, dtype=torch.float32)\n",
        "test_y = torch.tensor(test_y, dtype=torch.float32)\n",
        "\n",
        "# Then we convert those tensors to a TensorDataset\n",
        "train_california = torch.utils.data.TensorDataset(train_x, train_y)\n",
        "test_california = torch.utils.data.TensorDataset(test_x, test_y)\n",
        "\n",
        "# And create our DataLoaders!\n",
        "train_loader = DataLoader(train_california, batch_size=10, shuffle=True)\n",
        "test_loader = DataLoader(test_california, batch_size=10)"
      ],
      "id": "s2DxY07nhD6o"
    },
    {
      "cell_type": "code",
      "execution_count": 11,
      "metadata": {
        "colab": {
          "base_uri": "https://localhost:8080/"
        },
        "id": "O5K921_ahD6o",
        "outputId": "50555c58-7737-4143-d802-963a6c1f82d5"
      },
      "outputs": [
        {
          "output_type": "execute_result",
          "data": {
            "text/plain": [
              "Housing_MLP(\n",
              "  (hidden): Linear(in_features=8, out_features=2, bias=True)\n",
              "  (prediction): Linear(in_features=2, out_features=1, bias=True)\n",
              ")"
            ]
          },
          "metadata": {},
          "execution_count": 11
        }
      ],
      "source": [
        "class Housing_MLP(nn.Module):\n",
        "    def __init__(self):\n",
        "        super().__init__()\n",
        "        self.activation = F.relu\n",
        "        self.hidden = nn.Linear(8, 2)\n",
        "        self.prediction = nn.Linear(2, 1)\n",
        "\n",
        "    def forward(self, x):\n",
        "        x = self.activation(self.hidden(x))\n",
        "        x = self.prediction(x)\n",
        "\n",
        "        return x\n",
        "\n",
        "# Do not change the name of your model or later cells may fail!\n",
        "mlp = Housing_MLP()\n",
        "mlp.to(device)"
      ],
      "id": "O5K921_ahD6o"
    },
    {
      "cell_type": "code",
      "execution_count": 12,
      "metadata": {
        "colab": {
          "base_uri": "https://localhost:8080/",
          "height": 901
        },
        "id": "5wtt6wtxhD6p",
        "outputId": "6c9e11c7-aeeb-4f1b-c43a-7284ac835b7f"
      },
      "outputs": [
        {
          "output_type": "stream",
          "name": "stderr",
          "text": [
            "/usr/local/lib/python3.10/dist-packages/torch/nn/modules/loss.py:101: UserWarning: Using a target size (torch.Size([10])) that is different to the input size (torch.Size([10, 1])). This will likely lead to incorrect results due to broadcasting. Please ensure they have the same size.\n",
            "  return F.l1_loss(input, target, reduction=self.reduction)\n",
            "/usr/local/lib/python3.10/dist-packages/torch/nn/modules/loss.py:101: UserWarning: Using a target size (torch.Size([8])) that is different to the input size (torch.Size([8, 1])). This will likely lead to incorrect results due to broadcasting. Please ensure they have the same size.\n",
            "  return F.l1_loss(input, target, reduction=self.reduction)\n"
          ]
        },
        {
          "output_type": "stream",
          "name": "stdout",
          "text": [
            "Epoch 1 training loss: 229.90338\n"
          ]
        },
        {
          "output_type": "stream",
          "name": "stderr",
          "text": [
            "/usr/local/lib/python3.10/dist-packages/torch/nn/modules/loss.py:101: UserWarning: Using a target size (torch.Size([2])) that is different to the input size (torch.Size([2, 1])). This will likely lead to incorrect results due to broadcasting. Please ensure they have the same size.\n",
            "  return F.l1_loss(input, target, reduction=self.reduction)\n"
          ]
        },
        {
          "output_type": "stream",
          "name": "stdout",
          "text": [
            "Epoch 1 validation loss: 151.23890\n",
            "Epoch 2 training loss: 246.40100\n",
            "Epoch 2 validation loss: 91.94564\n",
            "Epoch 3 training loss: 250.53509\n",
            "Epoch 3 validation loss: 89.07358\n",
            "Epoch 4 training loss: 224.30354\n",
            "Epoch 4 validation loss: 99.90593\n",
            "Epoch 5 training loss: 248.54711\n",
            "Epoch 5 validation loss: 165.43255\n",
            "Epoch 6 training loss: 243.28208\n",
            "Epoch 6 validation loss: 180.58428\n",
            "Epoch 7 training loss: 227.17246\n",
            "Epoch 7 validation loss: 196.33635\n",
            "Epoch 8 training loss: 223.93038\n",
            "Epoch 8 validation loss: 151.23899\n",
            "Epoch 9 training loss: 248.96534\n",
            "Epoch 9 validation loss: 91.94567\n",
            "Epoch 10 training loss: 249.41390\n",
            "Epoch 10 validation loss: 89.07359\n"
          ]
        },
        {
          "output_type": "display_data",
          "data": {
            "text/plain": [
              "<Figure size 640x480 with 1 Axes>"
            ],
            "image/png": "[encoded data removed]"
          },
          "metadata": {}
        }
      ],
      "source": [
        "# Now let's train our network!\n",
        "train_network_regression(mlp, train_loader, test_loader)"
      ],
      "id": "5wtt6wtxhD6p"
    },
    {
      "cell_type": "markdown",
      "metadata": {
        "id": "Xzo5wj_ghD6p"
      },
      "source": [
        "Great work! Go back and try different activation and output functions throughout and see how it affects your results."
      ],
      "id": "Xzo5wj_ghD6p"
    }
  ],
  "metadata": {
    "kernelspec": {
      "display_name": "Python 3",
      "name": "python3"
    },
    "language_info": {
      "codemirror_mode": {
        "name": "ipython",
        "version": 3
      },
      "file_extension": ".py",
      "mimetype": "text/x-python",
      "name": "python",
      "nbconvert_exporter": "python",
      "pygments_lexer": "ipython3",
      "version": "3.7.6"
    },
    "colab": {
      "provenance": [],
      "gpuType": "T4"
    },
    "accelerator": "GPU"
  },
  "nbformat": 4,
  "nbformat_minor": 5
}