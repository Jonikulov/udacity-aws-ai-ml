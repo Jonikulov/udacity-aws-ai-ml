{
 "cells": [
  {
   "cell_type": "markdown",
   "id": "518075da-adbb-45f1-b1cb-93e8b459d25e",
   "metadata": {
    "tags": []
   },
   "source": [
    "# Exercise: Labeling"
   ]
  },
  {
   "cell_type": "code",
   "execution_count": 2,
   "id": "093419da-7c9f-420f-8e5e-b27598ca54a5",
   "metadata": {
    "tags": []
   },
   "outputs": [],
   "source": [
    "import numpy as np\n",
    "import pandas as pd\n",
    "from textblob import TextBlob"
   ]
  },
  {
   "cell_type": "code",
   "execution_count": 3,
   "id": "ca9050dc-4277-415d-aad9-2f66c7c9551f",
   "metadata": {},
   "outputs": [],
   "source": [
    "data = [\n",
    "    {\"source\":\"The movie was great, lots of action and top notch movie stars. I'll be watching this one on repeat for months.\"},\n",
    "    {\"source\":\"This is the 3rd sequel to the franchise and you can definitely tell. It's bascially the same story arc with slight changes to the characters. I could only watch about 10 minutes of it before I had to stop. It was turely terrible.\"},\n",
    "    {\"source\":\"It was the best movie ever!\"},\n",
    "    {\"source\":\"It was the worse movie ever!\"}\n",
    "]"
   ]
  },
  {
   "cell_type": "code",
   "execution_count": 4,
   "id": "8d47ee0e-98fb-4b05-903c-661f740bc7da",
   "metadata": {},
   "outputs": [
    {
     "data": {
      "text/html": [
       "<div>\n",
       "<style scoped>\n",
       "    .dataframe tbody tr th:only-of-type {\n",
       "        vertical-align: middle;\n",
       "    }\n",
       "\n",
       "    .dataframe tbody tr th {\n",
       "        vertical-align: top;\n",
       "    }\n",
       "\n",
       "    .dataframe thead th {\n",
       "        text-align: right;\n",
       "    }\n",
       "</style>\n",
       "<table border=\"1\" class=\"dataframe\">\n",
       "  <thead>\n",
       "    <tr style=\"text-align: right;\">\n",
       "      <th></th>\n",
       "      <th>source</th>\n",
       "    </tr>\n",
       "  </thead>\n",
       "  <tbody>\n",
       "    <tr>\n",
       "      <th>0</th>\n",
       "      <td>The movie was great, lots of action and top no...</td>\n",
       "    </tr>\n",
       "    <tr>\n",
       "      <th>1</th>\n",
       "      <td>This is the 3rd sequel to the franchise and yo...</td>\n",
       "    </tr>\n",
       "    <tr>\n",
       "      <th>2</th>\n",
       "      <td>It was the best movie ever!</td>\n",
       "    </tr>\n",
       "    <tr>\n",
       "      <th>3</th>\n",
       "      <td>It was the worse movie ever!</td>\n",
       "    </tr>\n",
       "  </tbody>\n",
       "</table>\n",
       "</div>"
      ],
      "text/plain": [
       "                                              source\n",
       "0  The movie was great, lots of action and top no...\n",
       "1  This is the 3rd sequel to the franchise and yo...\n",
       "2                        It was the best movie ever!\n",
       "3                       It was the worse movie ever!"
      ]
     },
     "execution_count": 4,
     "metadata": {},
     "output_type": "execute_result"
    }
   ],
   "source": [
    "df = pd.DataFrame(data)\n",
    "df"
   ]
  },
  {
   "cell_type": "code",
   "execution_count": 5,
   "id": "1dc64c02-ab90-4b9f-a34d-42ecf1e7caca",
   "metadata": {},
   "outputs": [
    {
     "name": "stdout",
     "output_type": "stream",
     "text": [
      "<class 'pandas.core.frame.DataFrame'>\n",
      "RangeIndex: 4 entries, 0 to 3\n",
      "Data columns (total 1 columns):\n",
      " #   Column  Non-Null Count  Dtype \n",
      "---  ------  --------------  ----- \n",
      " 0   source  4 non-null      object\n",
      "dtypes: object(1)\n",
      "memory usage: 164.0+ bytes\n"
     ]
    }
   ],
   "source": [
    "df.info()"
   ]
  },
  {
   "cell_type": "markdown",
   "id": "bb18d4ed-388a-4c71-a310-7122d7d49a9c",
   "metadata": {},
   "source": [
    "**Classifying text: `positive` or `negative`.**"
   ]
  },
  {
   "cell_type": "code",
   "execution_count": 6,
   "id": "c8a3c85e-685f-4e41-8b9f-c055d5b2a7c3",
   "metadata": {
    "tags": []
   },
   "outputs": [],
   "source": [
    "def classify_sentiment(review):\n",
    "    # Function to classify the sentiment of a review\n",
    "    blob = TextBlob(review)\n",
    "    sentiment = blob.sentiment.polarity\n",
    "    if sentiment > 0:\n",
    "        return 'positive'\n",
    "    # elif sentiment == 0:\n",
    "    #     return 'neutral'\n",
    "    elif sentiment < 0:\n",
    "        return 'negative'"
   ]
  },
  {
   "cell_type": "code",
   "execution_count": 7,
   "id": "cc927fc4-c638-4002-b913-e108c299aa1c",
   "metadata": {},
   "outputs": [
    {
     "data": {
      "text/html": [
       "<div>\n",
       "<style scoped>\n",
       "    .dataframe tbody tr th:only-of-type {\n",
       "        vertical-align: middle;\n",
       "    }\n",
       "\n",
       "    .dataframe tbody tr th {\n",
       "        vertical-align: top;\n",
       "    }\n",
       "\n",
       "    .dataframe thead th {\n",
       "        text-align: right;\n",
       "    }\n",
       "</style>\n",
       "<table border=\"1\" class=\"dataframe\">\n",
       "  <thead>\n",
       "    <tr style=\"text-align: right;\">\n",
       "      <th></th>\n",
       "      <th>source</th>\n",
       "      <th>class</th>\n",
       "    </tr>\n",
       "  </thead>\n",
       "  <tbody>\n",
       "    <tr>\n",
       "      <th>0</th>\n",
       "      <td>The movie was great, lots of action and top no...</td>\n",
       "      <td>positive</td>\n",
       "    </tr>\n",
       "    <tr>\n",
       "      <th>1</th>\n",
       "      <td>This is the 3rd sequel to the franchise and yo...</td>\n",
       "      <td>negative</td>\n",
       "    </tr>\n",
       "    <tr>\n",
       "      <th>2</th>\n",
       "      <td>It was the best movie ever!</td>\n",
       "      <td>positive</td>\n",
       "    </tr>\n",
       "    <tr>\n",
       "      <th>3</th>\n",
       "      <td>It was the worse movie ever!</td>\n",
       "      <td>negative</td>\n",
       "    </tr>\n",
       "  </tbody>\n",
       "</table>\n",
       "</div>"
      ],
      "text/plain": [
       "                                              source     class\n",
       "0  The movie was great, lots of action and top no...  positive\n",
       "1  This is the 3rd sequel to the franchise and yo...  negative\n",
       "2                        It was the best movie ever!  positive\n",
       "3                       It was the worse movie ever!  negative"
      ]
     },
     "execution_count": 7,
     "metadata": {},
     "output_type": "execute_result"
    }
   ],
   "source": [
    "df['class'] = df['source'].apply(classify_sentiment)\n",
    "df"
   ]
  },
  {
   "cell_type": "code",
   "execution_count": 9,
   "id": "5b697800-623e-455e-b05a-c9294a1de4ec",
   "metadata": {},
   "outputs": [],
   "source": [
    "df.to_csv(\"movie_reviews_labeled.csv\", index=False)"
   ]
  }
 ],
 "metadata": {
  "kernelspec": {
   "display_name": "Python 3 (ipykernel)",
   "language": "python",
   "name": "python3"
  },
  "language_info": {
   "codemirror_mode": {
    "name": "ipython",
    "version": 3
   },
   "file_extension": ".py",
   "mimetype": "text/x-python",
   "name": "python",
   "nbconvert_exporter": "python",
   "pygments_lexer": "ipython3",
   "version": "3.11.2"
  }
 },
 "nbformat": 4,
 "nbformat_minor": 5
}
